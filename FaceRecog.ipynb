{
 "cells": [
  {
   "cell_type": "code",
   "execution_count": null,
   "metadata": {},
   "outputs": [],
   "source": [
    "import cv2\n",
    "import sys\n",
    "\n",
    "FaceRecog = cv2.CascadeClassifier('C:/Users/Lenovo/face_recog_data.xml')\n",
    "\n",
    "img = cv2.imread('C:/Users/Lenovo/Desktop/Python Projects/Face Recognition/navid.jpg') #insert picture file path\n",
    "img_x = cv2.cvtColor(img , cv2.COLOR_BGR2GRAY)\n",
    "\n",
    "cor = FaceRecog.detectMultiScale(img_x, 1.3, 5)\n",
    "\n",
    "for (x,y,w,h) in cor:\n",
    "    img = cv2.rectangle(img, (x,y), (x+w, y+h), (255, 0, 0), 3)\n",
    "    \n",
    "cv2.imshow('Image dectiction', img)\n",
    "cv2.waitKey()"
   ]
  }
 ],
 "metadata": {
  "kernelspec": {
   "display_name": "Python 3",
   "language": "python",
   "name": "python3"
  },
  "language_info": {
   "codemirror_mode": {
    "name": "ipython",
    "version": 3
   },
   "file_extension": ".py",
   "mimetype": "text/x-python",
   "name": "python",
   "nbconvert_exporter": "python",
   "pygments_lexer": "ipython3",
   "version": "3.8.5"
  }
 },
 "nbformat": 4,
 "nbformat_minor": 4
}
